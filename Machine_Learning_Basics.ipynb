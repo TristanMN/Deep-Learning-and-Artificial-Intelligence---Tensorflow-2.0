{
  "nbformat": 4,
  "nbformat_minor": 0,
  "metadata": {
    "colab": {
      "provenance": []
    },
    "kernelspec": {
      "name": "python3",
      "display_name": "Python 3"
    },
    "language_info": {
      "name": "python"
    }
  },
  "cells": [
    {
      "cell_type": "code",
      "execution_count": 12,
      "metadata": {
        "colab": {
          "base_uri": "https://localhost:8080/"
        },
        "id": "0LzkKjhFmoHw",
        "outputId": "735bcf71-a4c2-4859-8b3f-3743701a7d8a"
      },
      "outputs": [
        {
          "output_type": "stream",
          "name": "stdout",
          "text": [
            "2.15.0\n"
          ]
        }
      ],
      "source": [
        "import tensorflow as tf\n",
        "from sklearn.datasets import load_breast_cancer\n",
        "import pandas as pd\n",
        "import numpy as np\n",
        "import matplotlib.pyplot as plt\n",
        "\n",
        "print(tf.__version__)"
      ]
    },
    {
      "cell_type": "code",
      "source": [
        "data = load_breast_cancer()\n",
        "type(data)"
      ],
      "metadata": {
        "colab": {
          "base_uri": "https://localhost:8080/",
          "height": 186
        },
        "id": "4g3za978nZsp",
        "outputId": "793c47d9-5d8c-4008-fa40-72c9e8657b4c"
      },
      "execution_count": 2,
      "outputs": [
        {
          "output_type": "execute_result",
          "data": {
            "text/plain": [
              "sklearn.utils._bunch.Bunch"
            ],
            "text/html": [
              "<div style=\"max-width:800px; border: 1px solid var(--colab-border-color);\"><style>\n",
              "      pre.function-repr-contents {\n",
              "        overflow-x: auto;\n",
              "        padding: 8px 12px;\n",
              "        max-height: 500px;\n",
              "      }\n",
              "\n",
              "      pre.function-repr-contents.function-repr-contents-collapsed {\n",
              "        cursor: pointer;\n",
              "        max-height: 100px;\n",
              "      }\n",
              "    </style>\n",
              "    <pre style=\"white-space: initial; background:\n",
              "         var(--colab-secondary-surface-color); padding: 8px 12px;\n",
              "         border-bottom: 1px solid var(--colab-border-color);\"><b>sklearn.utils._bunch.Bunch</b><br/>def __init__(**kwargs)</pre><pre class=\"function-repr-contents function-repr-contents-collapsed\" style=\"\"><a class=\"filepath\" style=\"display:none\" href=\"#\">/usr/local/lib/python3.10/dist-packages/sklearn/utils/_bunch.py</a>Container object exposing keys as attributes.\n",
              "\n",
              "Bunch objects are sometimes used as an output for functions and methods.\n",
              "They extend dictionaries by enabling values to be accessed by key,\n",
              "`bunch[&quot;value_key&quot;]`, or by an attribute, `bunch.value_key`.\n",
              "\n",
              "Examples\n",
              "--------\n",
              "&gt;&gt;&gt; from sklearn.utils import Bunch\n",
              "&gt;&gt;&gt; b = Bunch(a=1, b=2)\n",
              "&gt;&gt;&gt; b[&#x27;b&#x27;]\n",
              "2\n",
              "&gt;&gt;&gt; b.b\n",
              "2\n",
              "&gt;&gt;&gt; b.a = 3\n",
              "&gt;&gt;&gt; b[&#x27;a&#x27;]\n",
              "3\n",
              "&gt;&gt;&gt; b.c = 6\n",
              "&gt;&gt;&gt; b[&#x27;c&#x27;]\n",
              "6</pre>\n",
              "      <script>\n",
              "      if (google.colab.kernel.accessAllowed && google.colab.files && google.colab.files.view) {\n",
              "        for (const element of document.querySelectorAll('.filepath')) {\n",
              "          element.style.display = 'block'\n",
              "          element.onclick = (event) => {\n",
              "            event.preventDefault();\n",
              "            event.stopPropagation();\n",
              "            google.colab.files.view(element.textContent, 1);\n",
              "          };\n",
              "        }\n",
              "      }\n",
              "      for (const element of document.querySelectorAll('.function-repr-contents')) {\n",
              "        element.onclick = (event) => {\n",
              "          event.preventDefault();\n",
              "          event.stopPropagation();\n",
              "          element.classList.toggle('function-repr-contents-collapsed');\n",
              "        };\n",
              "      }\n",
              "      </script>\n",
              "      </div>"
            ]
          },
          "metadata": {},
          "execution_count": 2
        }
      ]
    },
    {
      "cell_type": "code",
      "source": [
        "data.keys()"
      ],
      "metadata": {
        "colab": {
          "base_uri": "https://localhost:8080/"
        },
        "id": "WW45fiQMolNy",
        "outputId": "93f0ad27-a719-482f-fe6a-3c9346e4f254"
      },
      "execution_count": 3,
      "outputs": [
        {
          "output_type": "execute_result",
          "data": {
            "text/plain": [
              "dict_keys(['data', 'target', 'frame', 'target_names', 'DESCR', 'feature_names', 'filename', 'data_module'])"
            ]
          },
          "metadata": {},
          "execution_count": 3
        }
      ]
    },
    {
      "cell_type": "code",
      "source": [
        "data.target"
      ],
      "metadata": {
        "colab": {
          "base_uri": "https://localhost:8080/"
        },
        "id": "Ox_yXe9Oo36v",
        "outputId": "21cfe3bc-5def-4ba4-aced-1a1566681bb2"
      },
      "execution_count": 4,
      "outputs": [
        {
          "output_type": "execute_result",
          "data": {
            "text/plain": [
              "array([0, 0, 0, 0, 0, 0, 0, 0, 0, 0, 0, 0, 0, 0, 0, 0, 0, 0, 0, 1, 1, 1,\n",
              "       0, 0, 0, 0, 0, 0, 0, 0, 0, 0, 0, 0, 0, 0, 0, 1, 0, 0, 0, 0, 0, 0,\n",
              "       0, 0, 1, 0, 1, 1, 1, 1, 1, 0, 0, 1, 0, 0, 1, 1, 1, 1, 0, 1, 0, 0,\n",
              "       1, 1, 1, 1, 0, 1, 0, 0, 1, 0, 1, 0, 0, 1, 1, 1, 0, 0, 1, 0, 0, 0,\n",
              "       1, 1, 1, 0, 1, 1, 0, 0, 1, 1, 1, 0, 0, 1, 1, 1, 1, 0, 1, 1, 0, 1,\n",
              "       1, 1, 1, 1, 1, 1, 1, 0, 0, 0, 1, 0, 0, 1, 1, 1, 0, 0, 1, 0, 1, 0,\n",
              "       0, 1, 0, 0, 1, 1, 0, 1, 1, 0, 1, 1, 1, 1, 0, 1, 1, 1, 1, 1, 1, 1,\n",
              "       1, 1, 0, 1, 1, 1, 1, 0, 0, 1, 0, 1, 1, 0, 0, 1, 1, 0, 0, 1, 1, 1,\n",
              "       1, 0, 1, 1, 0, 0, 0, 1, 0, 1, 0, 1, 1, 1, 0, 1, 1, 0, 0, 1, 0, 0,\n",
              "       0, 0, 1, 0, 0, 0, 1, 0, 1, 0, 1, 1, 0, 1, 0, 0, 0, 0, 1, 1, 0, 0,\n",
              "       1, 1, 1, 0, 1, 1, 1, 1, 1, 0, 0, 1, 1, 0, 1, 1, 0, 0, 1, 0, 1, 1,\n",
              "       1, 1, 0, 1, 1, 1, 1, 1, 0, 1, 0, 0, 0, 0, 0, 0, 0, 0, 0, 0, 0, 0,\n",
              "       0, 0, 1, 1, 1, 1, 1, 1, 0, 1, 0, 1, 1, 0, 1, 1, 0, 1, 0, 0, 1, 1,\n",
              "       1, 1, 1, 1, 1, 1, 1, 1, 1, 1, 1, 0, 1, 1, 0, 1, 0, 1, 1, 1, 1, 1,\n",
              "       1, 1, 1, 1, 1, 1, 1, 1, 1, 0, 1, 1, 1, 0, 1, 0, 1, 1, 1, 1, 0, 0,\n",
              "       0, 1, 1, 1, 1, 0, 1, 0, 1, 0, 1, 1, 1, 0, 1, 1, 1, 1, 1, 1, 1, 0,\n",
              "       0, 0, 1, 1, 1, 1, 1, 1, 1, 1, 1, 1, 1, 0, 0, 1, 0, 0, 0, 1, 0, 0,\n",
              "       1, 1, 1, 1, 1, 0, 1, 1, 1, 1, 1, 0, 1, 1, 1, 0, 1, 1, 0, 0, 1, 1,\n",
              "       1, 1, 1, 1, 0, 1, 1, 1, 1, 1, 1, 1, 0, 1, 1, 1, 1, 1, 0, 1, 1, 0,\n",
              "       1, 1, 1, 1, 1, 1, 1, 1, 1, 1, 1, 1, 0, 1, 0, 0, 1, 0, 1, 1, 1, 1,\n",
              "       1, 0, 1, 1, 0, 1, 0, 1, 1, 0, 1, 0, 1, 1, 1, 1, 1, 1, 1, 1, 0, 0,\n",
              "       1, 1, 1, 1, 1, 1, 0, 1, 1, 1, 1, 1, 1, 1, 1, 1, 1, 0, 1, 1, 1, 1,\n",
              "       1, 1, 1, 0, 1, 0, 1, 1, 0, 1, 1, 1, 1, 1, 0, 0, 1, 0, 1, 0, 1, 1,\n",
              "       1, 1, 1, 0, 1, 1, 0, 1, 0, 1, 0, 0, 1, 1, 1, 0, 1, 1, 1, 1, 1, 1,\n",
              "       1, 1, 1, 1, 1, 0, 1, 0, 0, 1, 1, 1, 1, 1, 1, 1, 1, 1, 1, 1, 1, 1,\n",
              "       1, 1, 1, 1, 1, 1, 1, 1, 1, 1, 1, 1, 0, 0, 0, 0, 0, 0, 1])"
            ]
          },
          "metadata": {},
          "execution_count": 4
        }
      ]
    },
    {
      "cell_type": "code",
      "source": [
        "from sklearn.model_selection import train_test_split\n",
        "\n",
        "X_train, X_test, y_train, y_test = train_test_split(data.data, data.target, test_size=0.3)\n",
        "N, D = X_train.shape"
      ],
      "metadata": {
        "id": "SUCDZi4Zo5sZ"
      },
      "execution_count": 5,
      "outputs": []
    },
    {
      "cell_type": "code",
      "source": [
        "from sklearn.preprocessing import StandardScaler\n",
        "\n",
        "scaler = StandardScaler()\n",
        "X_train, X_test = scaler.fit_transform(X_train), scaler.transform(X_test)"
      ],
      "metadata": {
        "id": "6aA0X6NlpHNI"
      },
      "execution_count": 6,
      "outputs": []
    },
    {
      "cell_type": "code",
      "source": [
        "model = tf.keras.models.Sequential([tf.keras.layers.Input(shape=(D,)), tf.keras.layers.Dense(1, activation='sigmoid')])\n",
        "\n",
        "model.compile(optimizer='adam', loss='binary_crossentropy', metrics=['accuracy'])\n",
        "\n",
        "r = model.fit(X_train, y_train, validation_data=(X_test, y_test), epochs=100)"
      ],
      "metadata": {
        "colab": {
          "base_uri": "https://localhost:8080/"
        },
        "id": "vCRH_67ophqd",
        "outputId": "6145c887-753a-47e0-88f2-6ea0da63c935"
      },
      "execution_count": 7,
      "outputs": [
        {
          "output_type": "stream",
          "name": "stdout",
          "text": [
            "Epoch 1/100\n",
            "13/13 [==============================] - 2s 41ms/step - loss: 0.6813 - accuracy: 0.6281 - val_loss: 0.5777 - val_accuracy: 0.7076\n",
            "Epoch 2/100\n",
            "13/13 [==============================] - 0s 8ms/step - loss: 0.6159 - accuracy: 0.7111 - val_loss: 0.5225 - val_accuracy: 0.8012\n",
            "Epoch 3/100\n",
            "13/13 [==============================] - 0s 11ms/step - loss: 0.5582 - accuracy: 0.7663 - val_loss: 0.4767 - val_accuracy: 0.8304\n",
            "Epoch 4/100\n",
            "13/13 [==============================] - 0s 12ms/step - loss: 0.5119 - accuracy: 0.7990 - val_loss: 0.4371 - val_accuracy: 0.8538\n",
            "Epoch 5/100\n",
            "13/13 [==============================] - 0s 8ms/step - loss: 0.4710 - accuracy: 0.8291 - val_loss: 0.4044 - val_accuracy: 0.8655\n",
            "Epoch 6/100\n",
            "13/13 [==============================] - 0s 10ms/step - loss: 0.4385 - accuracy: 0.8518 - val_loss: 0.3761 - val_accuracy: 0.8947\n",
            "Epoch 7/100\n",
            "13/13 [==============================] - 0s 18ms/step - loss: 0.4091 - accuracy: 0.8693 - val_loss: 0.3520 - val_accuracy: 0.9240\n",
            "Epoch 8/100\n",
            "13/13 [==============================] - 0s 8ms/step - loss: 0.3842 - accuracy: 0.8844 - val_loss: 0.3311 - val_accuracy: 0.9240\n",
            "Epoch 9/100\n",
            "13/13 [==============================] - 0s 9ms/step - loss: 0.3630 - accuracy: 0.8970 - val_loss: 0.3130 - val_accuracy: 0.9240\n",
            "Epoch 10/100\n",
            "13/13 [==============================] - 0s 35ms/step - loss: 0.3435 - accuracy: 0.8970 - val_loss: 0.2970 - val_accuracy: 0.9240\n",
            "Epoch 11/100\n",
            "13/13 [==============================] - 0s 16ms/step - loss: 0.3267 - accuracy: 0.9070 - val_loss: 0.2826 - val_accuracy: 0.9298\n",
            "Epoch 12/100\n",
            "13/13 [==============================] - 0s 20ms/step - loss: 0.3114 - accuracy: 0.9146 - val_loss: 0.2700 - val_accuracy: 0.9298\n",
            "Epoch 13/100\n",
            "13/13 [==============================] - 0s 20ms/step - loss: 0.2974 - accuracy: 0.9221 - val_loss: 0.2586 - val_accuracy: 0.9357\n",
            "Epoch 14/100\n",
            "13/13 [==============================] - 0s 19ms/step - loss: 0.2850 - accuracy: 0.9271 - val_loss: 0.2480 - val_accuracy: 0.9474\n",
            "Epoch 15/100\n",
            "13/13 [==============================] - 0s 18ms/step - loss: 0.2736 - accuracy: 0.9271 - val_loss: 0.2387 - val_accuracy: 0.9474\n",
            "Epoch 16/100\n",
            "13/13 [==============================] - 0s 18ms/step - loss: 0.2636 - accuracy: 0.9347 - val_loss: 0.2300 - val_accuracy: 0.9532\n",
            "Epoch 17/100\n",
            "13/13 [==============================] - 0s 19ms/step - loss: 0.2538 - accuracy: 0.9372 - val_loss: 0.2222 - val_accuracy: 0.9591\n",
            "Epoch 18/100\n",
            "13/13 [==============================] - 0s 29ms/step - loss: 0.2451 - accuracy: 0.9372 - val_loss: 0.2151 - val_accuracy: 0.9591\n",
            "Epoch 19/100\n",
            "13/13 [==============================] - 0s 20ms/step - loss: 0.2371 - accuracy: 0.9397 - val_loss: 0.2084 - val_accuracy: 0.9649\n",
            "Epoch 20/100\n",
            "13/13 [==============================] - 0s 23ms/step - loss: 0.2299 - accuracy: 0.9472 - val_loss: 0.2022 - val_accuracy: 0.9649\n",
            "Epoch 21/100\n",
            "13/13 [==============================] - 0s 7ms/step - loss: 0.2227 - accuracy: 0.9497 - val_loss: 0.1964 - val_accuracy: 0.9708\n",
            "Epoch 22/100\n",
            "13/13 [==============================] - 0s 14ms/step - loss: 0.2165 - accuracy: 0.9497 - val_loss: 0.1911 - val_accuracy: 0.9708\n",
            "Epoch 23/100\n",
            "13/13 [==============================] - 0s 14ms/step - loss: 0.2106 - accuracy: 0.9497 - val_loss: 0.1861 - val_accuracy: 0.9708\n",
            "Epoch 24/100\n",
            "13/13 [==============================] - 0s 16ms/step - loss: 0.2049 - accuracy: 0.9523 - val_loss: 0.1816 - val_accuracy: 0.9708\n",
            "Epoch 25/100\n",
            "13/13 [==============================] - 0s 8ms/step - loss: 0.1998 - accuracy: 0.9548 - val_loss: 0.1774 - val_accuracy: 0.9825\n",
            "Epoch 26/100\n",
            "13/13 [==============================] - 0s 11ms/step - loss: 0.1950 - accuracy: 0.9573 - val_loss: 0.1732 - val_accuracy: 0.9825\n",
            "Epoch 27/100\n",
            "13/13 [==============================] - 0s 8ms/step - loss: 0.1905 - accuracy: 0.9573 - val_loss: 0.1695 - val_accuracy: 0.9825\n",
            "Epoch 28/100\n",
            "13/13 [==============================] - 0s 12ms/step - loss: 0.1862 - accuracy: 0.9573 - val_loss: 0.1658 - val_accuracy: 0.9825\n",
            "Epoch 29/100\n",
            "13/13 [==============================] - 0s 7ms/step - loss: 0.1822 - accuracy: 0.9598 - val_loss: 0.1624 - val_accuracy: 0.9825\n",
            "Epoch 30/100\n",
            "13/13 [==============================] - 0s 14ms/step - loss: 0.1784 - accuracy: 0.9598 - val_loss: 0.1591 - val_accuracy: 0.9825\n",
            "Epoch 31/100\n",
            "13/13 [==============================] - 0s 11ms/step - loss: 0.1749 - accuracy: 0.9648 - val_loss: 0.1562 - val_accuracy: 0.9825\n",
            "Epoch 32/100\n",
            "13/13 [==============================] - 0s 10ms/step - loss: 0.1716 - accuracy: 0.9698 - val_loss: 0.1535 - val_accuracy: 0.9825\n",
            "Epoch 33/100\n",
            "13/13 [==============================] - 0s 8ms/step - loss: 0.1685 - accuracy: 0.9698 - val_loss: 0.1508 - val_accuracy: 0.9825\n",
            "Epoch 34/100\n",
            "13/13 [==============================] - 0s 11ms/step - loss: 0.1654 - accuracy: 0.9698 - val_loss: 0.1482 - val_accuracy: 0.9825\n",
            "Epoch 35/100\n",
            "13/13 [==============================] - 0s 11ms/step - loss: 0.1625 - accuracy: 0.9698 - val_loss: 0.1456 - val_accuracy: 0.9825\n",
            "Epoch 36/100\n",
            "13/13 [==============================] - 0s 8ms/step - loss: 0.1597 - accuracy: 0.9698 - val_loss: 0.1432 - val_accuracy: 0.9825\n",
            "Epoch 37/100\n",
            "13/13 [==============================] - 0s 11ms/step - loss: 0.1571 - accuracy: 0.9724 - val_loss: 0.1409 - val_accuracy: 0.9825\n",
            "Epoch 38/100\n",
            "13/13 [==============================] - 0s 7ms/step - loss: 0.1547 - accuracy: 0.9724 - val_loss: 0.1386 - val_accuracy: 0.9825\n",
            "Epoch 39/100\n",
            "13/13 [==============================] - 0s 25ms/step - loss: 0.1523 - accuracy: 0.9749 - val_loss: 0.1367 - val_accuracy: 0.9825\n",
            "Epoch 40/100\n",
            "13/13 [==============================] - 0s 16ms/step - loss: 0.1500 - accuracy: 0.9749 - val_loss: 0.1346 - val_accuracy: 0.9825\n",
            "Epoch 41/100\n",
            "13/13 [==============================] - 0s 12ms/step - loss: 0.1478 - accuracy: 0.9749 - val_loss: 0.1326 - val_accuracy: 0.9825\n",
            "Epoch 42/100\n",
            "13/13 [==============================] - 0s 18ms/step - loss: 0.1458 - accuracy: 0.9774 - val_loss: 0.1307 - val_accuracy: 0.9825\n",
            "Epoch 43/100\n",
            "13/13 [==============================] - 0s 13ms/step - loss: 0.1438 - accuracy: 0.9774 - val_loss: 0.1290 - val_accuracy: 0.9825\n",
            "Epoch 44/100\n",
            "13/13 [==============================] - 0s 9ms/step - loss: 0.1418 - accuracy: 0.9774 - val_loss: 0.1273 - val_accuracy: 0.9825\n",
            "Epoch 45/100\n",
            "13/13 [==============================] - 0s 13ms/step - loss: 0.1400 - accuracy: 0.9774 - val_loss: 0.1257 - val_accuracy: 0.9825\n",
            "Epoch 46/100\n",
            "13/13 [==============================] - 0s 20ms/step - loss: 0.1382 - accuracy: 0.9774 - val_loss: 0.1241 - val_accuracy: 0.9825\n",
            "Epoch 47/100\n",
            "13/13 [==============================] - 0s 16ms/step - loss: 0.1366 - accuracy: 0.9774 - val_loss: 0.1226 - val_accuracy: 0.9825\n",
            "Epoch 48/100\n",
            "13/13 [==============================] - 0s 8ms/step - loss: 0.1350 - accuracy: 0.9774 - val_loss: 0.1212 - val_accuracy: 0.9825\n",
            "Epoch 49/100\n",
            "13/13 [==============================] - 0s 12ms/step - loss: 0.1334 - accuracy: 0.9774 - val_loss: 0.1197 - val_accuracy: 0.9825\n",
            "Epoch 50/100\n",
            "13/13 [==============================] - 0s 13ms/step - loss: 0.1319 - accuracy: 0.9774 - val_loss: 0.1183 - val_accuracy: 0.9825\n",
            "Epoch 51/100\n",
            "13/13 [==============================] - 0s 11ms/step - loss: 0.1305 - accuracy: 0.9774 - val_loss: 0.1170 - val_accuracy: 0.9825\n",
            "Epoch 52/100\n",
            "13/13 [==============================] - 0s 8ms/step - loss: 0.1292 - accuracy: 0.9774 - val_loss: 0.1158 - val_accuracy: 0.9825\n",
            "Epoch 53/100\n",
            "13/13 [==============================] - 0s 29ms/step - loss: 0.1278 - accuracy: 0.9774 - val_loss: 0.1145 - val_accuracy: 0.9825\n",
            "Epoch 54/100\n",
            "13/13 [==============================] - 0s 12ms/step - loss: 0.1266 - accuracy: 0.9799 - val_loss: 0.1133 - val_accuracy: 0.9825\n",
            "Epoch 55/100\n",
            "13/13 [==============================] - 0s 9ms/step - loss: 0.1253 - accuracy: 0.9799 - val_loss: 0.1122 - val_accuracy: 0.9825\n",
            "Epoch 56/100\n",
            "13/13 [==============================] - 0s 8ms/step - loss: 0.1241 - accuracy: 0.9799 - val_loss: 0.1111 - val_accuracy: 0.9766\n",
            "Epoch 57/100\n",
            "13/13 [==============================] - 0s 10ms/step - loss: 0.1230 - accuracy: 0.9799 - val_loss: 0.1101 - val_accuracy: 0.9766\n",
            "Epoch 58/100\n",
            "13/13 [==============================] - 0s 13ms/step - loss: 0.1220 - accuracy: 0.9799 - val_loss: 0.1092 - val_accuracy: 0.9766\n",
            "Epoch 59/100\n",
            "13/13 [==============================] - 0s 11ms/step - loss: 0.1207 - accuracy: 0.9799 - val_loss: 0.1082 - val_accuracy: 0.9766\n",
            "Epoch 60/100\n",
            "13/13 [==============================] - 0s 11ms/step - loss: 0.1198 - accuracy: 0.9799 - val_loss: 0.1071 - val_accuracy: 0.9766\n",
            "Epoch 61/100\n",
            "13/13 [==============================] - 0s 10ms/step - loss: 0.1187 - accuracy: 0.9799 - val_loss: 0.1062 - val_accuracy: 0.9766\n",
            "Epoch 62/100\n",
            "13/13 [==============================] - 0s 9ms/step - loss: 0.1177 - accuracy: 0.9824 - val_loss: 0.1052 - val_accuracy: 0.9766\n",
            "Epoch 63/100\n",
            "13/13 [==============================] - 0s 7ms/step - loss: 0.1168 - accuracy: 0.9824 - val_loss: 0.1043 - val_accuracy: 0.9766\n",
            "Epoch 64/100\n",
            "13/13 [==============================] - 0s 6ms/step - loss: 0.1158 - accuracy: 0.9824 - val_loss: 0.1034 - val_accuracy: 0.9766\n",
            "Epoch 65/100\n",
            "13/13 [==============================] - 0s 15ms/step - loss: 0.1149 - accuracy: 0.9824 - val_loss: 0.1025 - val_accuracy: 0.9766\n",
            "Epoch 66/100\n",
            "13/13 [==============================] - 0s 11ms/step - loss: 0.1140 - accuracy: 0.9824 - val_loss: 0.1017 - val_accuracy: 0.9766\n",
            "Epoch 67/100\n",
            "13/13 [==============================] - 0s 12ms/step - loss: 0.1132 - accuracy: 0.9824 - val_loss: 0.1008 - val_accuracy: 0.9766\n",
            "Epoch 68/100\n",
            "13/13 [==============================] - 0s 11ms/step - loss: 0.1124 - accuracy: 0.9824 - val_loss: 0.1000 - val_accuracy: 0.9766\n",
            "Epoch 69/100\n",
            "13/13 [==============================] - 0s 15ms/step - loss: 0.1115 - accuracy: 0.9849 - val_loss: 0.0993 - val_accuracy: 0.9766\n",
            "Epoch 70/100\n",
            "13/13 [==============================] - 0s 13ms/step - loss: 0.1108 - accuracy: 0.9849 - val_loss: 0.0984 - val_accuracy: 0.9766\n",
            "Epoch 71/100\n",
            "13/13 [==============================] - 0s 15ms/step - loss: 0.1100 - accuracy: 0.9849 - val_loss: 0.0977 - val_accuracy: 0.9766\n",
            "Epoch 72/100\n",
            "13/13 [==============================] - 0s 13ms/step - loss: 0.1093 - accuracy: 0.9849 - val_loss: 0.0971 - val_accuracy: 0.9766\n",
            "Epoch 73/100\n",
            "13/13 [==============================] - 0s 8ms/step - loss: 0.1086 - accuracy: 0.9849 - val_loss: 0.0964 - val_accuracy: 0.9766\n",
            "Epoch 74/100\n",
            "13/13 [==============================] - 0s 13ms/step - loss: 0.1079 - accuracy: 0.9849 - val_loss: 0.0957 - val_accuracy: 0.9766\n",
            "Epoch 75/100\n",
            "13/13 [==============================] - 0s 9ms/step - loss: 0.1072 - accuracy: 0.9874 - val_loss: 0.0951 - val_accuracy: 0.9766\n",
            "Epoch 76/100\n",
            "13/13 [==============================] - 0s 10ms/step - loss: 0.1066 - accuracy: 0.9874 - val_loss: 0.0945 - val_accuracy: 0.9766\n",
            "Epoch 77/100\n",
            "13/13 [==============================] - 0s 8ms/step - loss: 0.1059 - accuracy: 0.9874 - val_loss: 0.0939 - val_accuracy: 0.9766\n",
            "Epoch 78/100\n",
            "13/13 [==============================] - 0s 24ms/step - loss: 0.1053 - accuracy: 0.9874 - val_loss: 0.0933 - val_accuracy: 0.9766\n",
            "Epoch 79/100\n",
            "13/13 [==============================] - 0s 9ms/step - loss: 0.1047 - accuracy: 0.9874 - val_loss: 0.0927 - val_accuracy: 0.9766\n",
            "Epoch 80/100\n",
            "13/13 [==============================] - 0s 12ms/step - loss: 0.1041 - accuracy: 0.9874 - val_loss: 0.0923 - val_accuracy: 0.9766\n",
            "Epoch 81/100\n",
            "13/13 [==============================] - 0s 11ms/step - loss: 0.1035 - accuracy: 0.9874 - val_loss: 0.0918 - val_accuracy: 0.9766\n",
            "Epoch 82/100\n",
            "13/13 [==============================] - 0s 24ms/step - loss: 0.1029 - accuracy: 0.9874 - val_loss: 0.0912 - val_accuracy: 0.9766\n",
            "Epoch 83/100\n",
            "13/13 [==============================] - 0s 24ms/step - loss: 0.1024 - accuracy: 0.9874 - val_loss: 0.0905 - val_accuracy: 0.9766\n",
            "Epoch 84/100\n",
            "13/13 [==============================] - 0s 22ms/step - loss: 0.1018 - accuracy: 0.9874 - val_loss: 0.0901 - val_accuracy: 0.9766\n",
            "Epoch 85/100\n",
            "13/13 [==============================] - 0s 18ms/step - loss: 0.1013 - accuracy: 0.9874 - val_loss: 0.0895 - val_accuracy: 0.9766\n",
            "Epoch 86/100\n",
            "13/13 [==============================] - 0s 11ms/step - loss: 0.1008 - accuracy: 0.9874 - val_loss: 0.0891 - val_accuracy: 0.9766\n",
            "Epoch 87/100\n",
            "13/13 [==============================] - 0s 17ms/step - loss: 0.1002 - accuracy: 0.9874 - val_loss: 0.0887 - val_accuracy: 0.9766\n",
            "Epoch 88/100\n",
            "13/13 [==============================] - 0s 19ms/step - loss: 0.0997 - accuracy: 0.9874 - val_loss: 0.0882 - val_accuracy: 0.9766\n",
            "Epoch 89/100\n",
            "13/13 [==============================] - 0s 16ms/step - loss: 0.0992 - accuracy: 0.9874 - val_loss: 0.0877 - val_accuracy: 0.9766\n",
            "Epoch 90/100\n",
            "13/13 [==============================] - 0s 20ms/step - loss: 0.0988 - accuracy: 0.9874 - val_loss: 0.0873 - val_accuracy: 0.9766\n",
            "Epoch 91/100\n",
            "13/13 [==============================] - 0s 19ms/step - loss: 0.0982 - accuracy: 0.9874 - val_loss: 0.0868 - val_accuracy: 0.9766\n",
            "Epoch 92/100\n",
            "13/13 [==============================] - 0s 18ms/step - loss: 0.0978 - accuracy: 0.9874 - val_loss: 0.0863 - val_accuracy: 0.9766\n",
            "Epoch 93/100\n",
            "13/13 [==============================] - 0s 18ms/step - loss: 0.0973 - accuracy: 0.9874 - val_loss: 0.0858 - val_accuracy: 0.9766\n",
            "Epoch 94/100\n",
            "13/13 [==============================] - 0s 18ms/step - loss: 0.0969 - accuracy: 0.9874 - val_loss: 0.0854 - val_accuracy: 0.9766\n",
            "Epoch 95/100\n",
            "13/13 [==============================] - 0s 8ms/step - loss: 0.0964 - accuracy: 0.9874 - val_loss: 0.0850 - val_accuracy: 0.9766\n",
            "Epoch 96/100\n",
            "13/13 [==============================] - 0s 8ms/step - loss: 0.0960 - accuracy: 0.9874 - val_loss: 0.0845 - val_accuracy: 0.9766\n",
            "Epoch 97/100\n",
            "13/13 [==============================] - 0s 9ms/step - loss: 0.0956 - accuracy: 0.9874 - val_loss: 0.0842 - val_accuracy: 0.9766\n",
            "Epoch 98/100\n",
            "13/13 [==============================] - 0s 13ms/step - loss: 0.0951 - accuracy: 0.9874 - val_loss: 0.0838 - val_accuracy: 0.9766\n",
            "Epoch 99/100\n",
            "13/13 [==============================] - 0s 8ms/step - loss: 0.0947 - accuracy: 0.9874 - val_loss: 0.0833 - val_accuracy: 0.9766\n",
            "Epoch 100/100\n",
            "13/13 [==============================] - 0s 13ms/step - loss: 0.0943 - accuracy: 0.9874 - val_loss: 0.0830 - val_accuracy: 0.9766\n"
          ]
        }
      ]
    },
    {
      "cell_type": "code",
      "source": [
        "print(\"Train score:\", model.evaluate(X_train, y_train))\n",
        "print(\"Test score:\", model.evaluate(X_test, y_test))"
      ],
      "metadata": {
        "colab": {
          "base_uri": "https://localhost:8080/"
        },
        "id": "bHd2dMf2qskg",
        "outputId": "f55aae08-df7f-47e0-92cd-f4a34dbdaec1"
      },
      "execution_count": 8,
      "outputs": [
        {
          "output_type": "stream",
          "name": "stdout",
          "text": [
            "13/13 [==============================] - 0s 3ms/step - loss: 0.0940 - accuracy: 0.9874\n",
            "Train score: [0.0940391793847084, 0.9874371886253357]\n",
            "6/6 [==============================] - 0s 4ms/step - loss: 0.0830 - accuracy: 0.9766\n",
            "Test score: [0.08295337855815887, 0.9766082167625427]\n"
          ]
        }
      ]
    },
    {
      "cell_type": "code",
      "source": [
        "plt.plot(r.history['loss'], label='loss')\n",
        "plt.plot(r.history['val_loss'], label='val_loss')\n",
        "plt.legend()"
      ],
      "metadata": {
        "colab": {
          "base_uri": "https://localhost:8080/",
          "height": 448
        },
        "id": "JVvr3agXwNgE",
        "outputId": "aa70f01b-03ea-4a0e-cd9a-baafd89da71e"
      },
      "execution_count": 9,
      "outputs": [
        {
          "output_type": "execute_result",
          "data": {
            "text/plain": [
              "<matplotlib.legend.Legend at 0x7c3c4d31d5d0>"
            ]
          },
          "metadata": {},
          "execution_count": 9
        },
        {
          "output_type": "display_data",
          "data": {
            "text/plain": [
              "<Figure size 640x480 with 1 Axes>"
            ],
            "image/png": "[encoded data removed]"
          },
          "metadata": {}
        }
      ]
    },
    {
      "cell_type": "code",
      "source": [
        "plt.plot(r.history['accuracy'], label='acc')\n",
        "plt.plot(r.history['val_accuracy'], label='val_acc')\n",
        "plt.legend()"
      ],
      "metadata": {
        "colab": {
          "base_uri": "https://localhost:8080/",
          "height": 448
        },
        "id": "PupcuD_IxN-M",
        "outputId": "cc1d6f1b-66a7-4e52-a1f9-156a7c006186"
      },
      "execution_count": 10,
      "outputs": [
        {
          "output_type": "execute_result",
          "data": {
            "text/plain": [
              "<matplotlib.legend.Legend at 0x7c3bc32d2a10>"
            ]
          },
          "metadata": {},
          "execution_count": 10
        },
        {
          "output_type": "display_data",
          "data": {
            "text/plain": [
              "<Figure size 640x480 with 1 Axes>"
            ],
            "image/png": "[encoded data removed]"
          },
          "metadata": {}
        }
      ]
    },
    {
      "cell_type": "code",
      "source": [
        "import numpy as np\n",
        "\n",
        "P = model.predict(X_test)\n",
        "print(P)\n",
        "P = np.round(P).flatten()\n",
        "print(P)"
      ],
      "metadata": {
        "colab": {
          "base_uri": "https://localhost:8080/"
        },
        "id": "HduP17i5xWI2",
        "outputId": "ea7db9ca-bd86-42d6-b415-ad13edc7e73b"
      },
      "execution_count": 15,
      "outputs": [
        {
          "output_type": "stream",
          "name": "stdout",
          "text": [
            "6/6 [==============================] - 0s 2ms/step\n",
            "[[3.23653996e-01]\n",
            " [2.19073892e-01]\n",
            " [9.99177873e-01]\n",
            " [9.83954668e-01]\n",
            " [5.88133465e-04]\n",
            " [9.56393480e-01]\n",
            " [9.07525301e-01]\n",
            " [9.84150529e-01]\n",
            " [9.94956076e-01]\n",
            " [1.39404583e-04]\n",
            " [9.90490854e-01]\n",
            " [5.60044427e-04]\n",
            " [9.98689890e-01]\n",
            " [3.18704336e-03]\n",
            " [1.81336563e-05]\n",
            " [9.92853701e-01]\n",
            " [8.72212529e-01]\n",
            " [9.97981369e-01]\n",
            " [1.57618138e-03]\n",
            " [9.91132259e-01]\n",
            " [9.72576261e-01]\n",
            " [9.95645165e-01]\n",
            " [9.56154346e-01]\n",
            " [8.58984888e-01]\n",
            " [3.03788576e-03]\n",
            " [9.99315798e-01]\n",
            " [9.38082635e-01]\n",
            " [9.82083559e-01]\n",
            " [7.43313169e-04]\n",
            " [7.55827898e-07]\n",
            " [2.30851639e-02]\n",
            " [9.34229016e-01]\n",
            " [9.99981225e-01]\n",
            " [8.21480632e-01]\n",
            " [5.87589592e-02]\n",
            " [6.99502230e-03]\n",
            " [8.37390363e-01]\n",
            " [5.98124444e-01]\n",
            " [9.99307692e-01]\n",
            " [9.95139599e-01]\n",
            " [3.17782542e-04]\n",
            " [3.80409659e-07]\n",
            " [9.95682359e-01]\n",
            " [2.62283146e-01]\n",
            " [9.97548103e-01]\n",
            " [3.83602595e-03]\n",
            " [9.96463060e-01]\n",
            " [9.91624653e-01]\n",
            " [9.35225725e-01]\n",
            " [3.16795224e-04]\n",
            " [9.36552882e-01]\n",
            " [9.95000720e-01]\n",
            " [9.83129442e-01]\n",
            " [8.81502032e-01]\n",
            " [9.98808205e-01]\n",
            " [9.88604486e-01]\n",
            " [9.84523773e-01]\n",
            " [9.97524381e-01]\n",
            " [9.85646963e-01]\n",
            " [9.90118980e-01]\n",
            " [9.42485392e-01]\n",
            " [9.96491671e-01]\n",
            " [9.40451562e-01]\n",
            " [9.75132644e-01]\n",
            " [1.57437809e-02]\n",
            " [4.68103169e-03]\n",
            " [9.96412694e-01]\n",
            " [2.25311291e-04]\n",
            " [1.15260656e-04]\n",
            " [2.06975173e-02]\n",
            " [9.98676538e-01]\n",
            " [9.97907341e-01]\n",
            " [9.93278146e-01]\n",
            " [9.91761386e-01]\n",
            " [9.40572500e-01]\n",
            " [6.10089686e-04]\n",
            " [9.81208742e-01]\n",
            " [9.34829831e-01]\n",
            " [4.99118686e-01]\n",
            " [9.32956815e-01]\n",
            " [2.72191465e-02]\n",
            " [4.36799382e-05]\n",
            " [9.97472048e-01]\n",
            " [1.17958784e-01]\n",
            " [2.63843954e-01]\n",
            " [9.93225336e-01]\n",
            " [9.92991745e-01]\n",
            " [5.21207392e-01]\n",
            " [8.65700185e-01]\n",
            " [1.62211061e-01]\n",
            " [8.37718308e-01]\n",
            " [9.71876740e-01]\n",
            " [6.73983186e-06]\n",
            " [9.08657432e-01]\n",
            " [9.98818815e-01]\n",
            " [9.90233541e-01]\n",
            " [9.67778742e-01]\n",
            " [9.99186039e-01]\n",
            " [8.31227317e-06]\n",
            " [9.99769866e-01]\n",
            " [9.42571521e-01]\n",
            " [2.43517160e-02]\n",
            " [9.94873106e-01]\n",
            " [6.45947158e-01]\n",
            " [9.59040582e-01]\n",
            " [6.64554060e-01]\n",
            " [9.98599708e-01]\n",
            " [9.98360336e-01]\n",
            " [7.03917384e-01]\n",
            " [9.96513188e-01]\n",
            " [1.18739955e-01]\n",
            " [9.98261809e-01]\n",
            " [9.72828686e-01]\n",
            " [9.90039229e-01]\n",
            " [9.99389708e-01]\n",
            " [9.95323598e-01]\n",
            " [9.99857485e-01]\n",
            " [9.55378916e-03]\n",
            " [9.67834055e-01]\n",
            " [3.05661596e-02]\n",
            " [1.14494167e-01]\n",
            " [8.91322315e-01]\n",
            " [9.82246935e-01]\n",
            " [6.76468655e-04]\n",
            " [9.90272105e-01]\n",
            " [1.38665177e-02]\n",
            " [9.54996169e-01]\n",
            " [9.97167706e-01]\n",
            " [9.81415510e-01]\n",
            " [1.73629597e-02]\n",
            " [9.09547031e-01]\n",
            " [9.95171607e-01]\n",
            " [1.21551909e-01]\n",
            " [2.36761244e-03]\n",
            " [3.98696028e-02]\n",
            " [9.39088047e-01]\n",
            " [2.45775074e-01]\n",
            " [9.48085487e-01]\n",
            " [1.17379139e-04]\n",
            " [9.57359970e-01]\n",
            " [2.00202689e-01]\n",
            " [3.22264968e-03]\n",
            " [3.09116254e-03]\n",
            " [9.98554230e-01]\n",
            " [8.30180764e-01]\n",
            " [9.92649138e-01]\n",
            " [1.52177662e-01]\n",
            " [8.28121364e-01]\n",
            " [8.09000134e-01]\n",
            " [9.22430336e-01]\n",
            " [9.27641869e-01]\n",
            " [4.66380328e-01]\n",
            " [9.87631738e-01]\n",
            " [9.45984185e-01]\n",
            " [8.22506428e-01]\n",
            " [6.22881614e-02]\n",
            " [9.80586767e-01]\n",
            " [8.33719075e-01]\n",
            " [1.48425822e-03]\n",
            " [9.99079704e-01]\n",
            " [6.88442647e-01]\n",
            " [2.34005712e-02]\n",
            " [9.83904600e-01]\n",
            " [8.74714375e-01]\n",
            " [9.91209269e-01]\n",
            " [9.50372815e-01]\n",
            " [2.60713339e-01]\n",
            " [9.81437981e-01]\n",
            " [9.81124938e-01]\n",
            " [7.62576237e-02]\n",
            " [2.84478255e-02]]\n",
            "[0. 0. 1. 1. 0. 1. 1. 1. 1. 0. 1. 0. 1. 0. 0. 1. 1. 1. 0. 1. 1. 1. 1. 1.\n",
            " 0. 1. 1. 1. 0. 0. 0. 1. 1. 1. 0. 0. 1. 1. 1. 1. 0. 0. 1. 0. 1. 0. 1. 1.\n",
            " 1. 0. 1. 1. 1. 1. 1. 1. 1. 1. 1. 1. 1. 1. 1. 1. 0. 0. 1. 0. 0. 0. 1. 1.\n",
            " 1. 1. 1. 0. 1. 1. 0. 1. 0. 0. 1. 0. 0. 1. 1. 1. 1. 0. 1. 1. 0. 1. 1. 1.\n",
            " 1. 1. 0. 1. 1. 0. 1. 1. 1. 1. 1. 1. 1. 1. 0. 1. 1. 1. 1. 1. 1. 0. 1. 0.\n",
            " 0. 1. 1. 0. 1. 0. 1. 1. 1. 0. 1. 1. 0. 0. 0. 1. 0. 1. 0. 1. 0. 0. 0. 1.\n",
            " 1. 1. 0. 1. 1. 1. 1. 0. 1. 1. 1. 0. 1. 1. 0. 1. 1. 0. 1. 1. 1. 1. 0. 1.\n",
            " 1. 0. 0.]\n"
          ]
        }
      ]
    },
    {
      "cell_type": "code",
      "source": [
        "print(\"Manually calculated accuracy:\", np.mean(P == y_test))\n",
        "print(\"Evaluate output:\", model.evaluate(X_test, y_test))"
      ],
      "metadata": {
        "colab": {
          "base_uri": "https://localhost:8080/"
        },
        "id": "hSH_YYmw1ZWq",
        "outputId": "9c353472-451d-4139-ca58-f4837a9177af"
      },
      "execution_count": 16,
      "outputs": [
        {
          "output_type": "stream",
          "name": "stdout",
          "text": [
            "Manually calculated accuracy: 0.9766081871345029\n",
            "6/6 [==============================] - 0s 3ms/step - loss: 0.0830 - accuracy: 0.9766\n",
            "Evaluate output: [0.08295337855815887, 0.9766082167625427]\n"
          ]
        }
      ]
    },
    {
      "cell_type": "code",
      "source": [
        "model.save('MLBasicslinearclassifier.h5')"
      ],
      "metadata": {
        "colab": {
          "base_uri": "https://localhost:8080/"
        },
        "id": "H_kW0j6Y4W3m",
        "outputId": "06532c96-5847-4abc-dd02-a8c7d9041883"
      },
      "execution_count": 17,
      "outputs": [
        {
          "output_type": "stream",
          "name": "stderr",
          "text": [
            "/usr/local/lib/python3.10/dist-packages/keras/src/engine/training.py:3103: UserWarning: You are saving your model as an HDF5 file via `model.save()`. This file format is considered legacy. We recommend using instead the native Keras format, e.g. `model.save('my_model.keras')`.\n",
            "  saving_api.save_model(\n"
          ]
        }
      ]
    },
    {
      "cell_type": "code",
      "source": [
        "!ls -lh"
      ],
      "metadata": {
        "colab": {
          "base_uri": "https://localhost:8080/"
        },
        "id": "T0dtGwf15nSc",
        "outputId": "3cd57bc6-b651-463f-e561-e9db41b5f956"
      },
      "execution_count": 18,
      "outputs": [
        {
          "output_type": "stream",
          "name": "stdout",
          "text": [
            "total 24K\n",
            "-rw-r--r-- 1 root root  20K Mar  9 20:27 MLBasicslinearclassifier.h5\n",
            "drwxr-xr-x 1 root root 4.0K Mar  7 14:32 sample_data\n"
          ]
        }
      ]
    },
    {
      "cell_type": "code",
      "source": [
        "model = tf.keras.models.load_model('MLBasicslinearclassifier.h5')\n",
        "print(model.layers)\n",
        "model.evaluate(X_test, y_test)"
      ],
      "metadata": {
        "colab": {
          "base_uri": "https://localhost:8080/"
        },
        "id": "WB3n6Sf35qi4",
        "outputId": "de8ccb12-0c2e-44d3-a4cd-cf47099346ad"
      },
      "execution_count": 19,
      "outputs": [
        {
          "output_type": "stream",
          "name": "stdout",
          "text": [
            "[<keras.src.layers.core.dense.Dense object at 0x7c3bc27512d0>]\n",
            "6/6 [==============================] - 0s 4ms/step - loss: 0.0830 - accuracy: 0.9766\n"
          ]
        },
        {
          "output_type": "execute_result",
          "data": {
            "text/plain": [
              "[0.08295337855815887, 0.9766082167625427]"
            ]
          },
          "metadata": {},
          "execution_count": 19
        }
      ]
    },
    {
      "cell_type": "code",
      "source": [
        "%reset -f\n",
        "#!wget https://raw.githubusercontent.com/lazyprogrammer/machine_learning_examples/master/tf2.0/moore.csv\n",
        "import tensorflow as tf\n",
        "from sklearn.datasets import load_breast_cancer\n",
        "import pandas as pd\n",
        "import numpy as np\n",
        "import matplotlib.pyplot as plt"
      ],
      "metadata": {
        "id": "Ae9vHg6o5ywl"
      },
      "execution_count": 27,
      "outputs": []
    },
    {
      "cell_type": "code",
      "source": [
        "data = pd.read_csv('moore.csv', header=None).values\n",
        "X = data[:, 0].reshape(-1, 1)\n",
        "y = data[:, 1]"
      ],
      "metadata": {
        "id": "tTg68NTICsOn"
      },
      "execution_count": 30,
      "outputs": []
    },
    {
      "cell_type": "code",
      "source": [
        "plt.scatter(X, y)"
      ],
      "metadata": {
        "colab": {
          "base_uri": "https://localhost:8080/",
          "height": 463
        },
        "id": "MGyDJhIRD_xM",
        "outputId": "51154501-7d42-45e1-cb6b-1aeae3c4b659"
      },
      "execution_count": 32,
      "outputs": [
        {
          "output_type": "execute_result",
          "data": {
            "text/plain": [
              "<matplotlib.collections.PathCollection at 0x7c3bbbda0e20>"
            ]
          },
          "metadata": {},
          "execution_count": 32
        },
        {
          "output_type": "display_data",
          "data": {
            "text/plain": [
              "<Figure size 640x480 with 1 Axes>"
            ],
            "image/png": "[encoded data removed]"
          },
          "metadata": {}
        }
      ]
    },
    {
      "cell_type": "code",
      "source": [
        "y = np.log(y)\n",
        "plt.scatter(X, y)"
      ],
      "metadata": {
        "colab": {
          "base_uri": "https://localhost:8080/",
          "height": 448
        },
        "id": "Z_LvBZxRFpg3",
        "outputId": "2096c781-e72c-4377-9953-968606083672"
      },
      "execution_count": 34,
      "outputs": [
        {
          "output_type": "execute_result",
          "data": {
            "text/plain": [
              "<matplotlib.collections.PathCollection at 0x7c3bbbc08a90>"
            ]
          },
          "metadata": {},
          "execution_count": 34
        },
        {
          "output_type": "display_data",
          "data": {
            "text/plain": [
              "<Figure size 640x480 with 1 Axes>"
            ],
            "image/png": "[encoded data removed]"
          },
          "metadata": {}
        }
      ]
    },
    {
      "cell_type": "code",
      "source": [
        "X = X - X.mean()"
      ],
      "metadata": {
        "id": "7LcHYu3bFtX3"
      },
      "execution_count": 35,
      "outputs": []
    },
    {
      "cell_type": "code",
      "source": [
        "model = tf.keras.models.Sequential([tf.keras.layers.Input(shape=(1,)), tf.keras.layers.Dense(1)])\n",
        "\n",
        "model.compile(optimizer=tf.keras.optimizers.SGD(0.001, 0.9), loss='mse')\n",
        "\n",
        "def schedule(epoch, lr):\n",
        "  if epoch >= 50:\n",
        "    return 0.0001\n",
        "  return 0.001\n",
        "\n",
        "scheduler = tf.keras.callbacks.LearningRateScheduler(schedule)\n",
        "\n",
        "r = model.fit(X, y, epochs=200, callbacks=[scheduler])"
      ],
      "metadata": {
        "colab": {
          "base_uri": "https://localhost:8080/"
        },
        "id": "x6Ny0x4dF4P8",
        "outputId": "fe4add05-d1eb-4e27-abeb-21271f567db9"
      },
      "execution_count": 37,
      "outputs": [
        {
          "output_type": "stream",
          "name": "stdout",
          "text": [
            "Epoch 1/200\n",
            "6/6 [==============================] - 1s 4ms/step - loss: 324.5402 - lr: 0.0010\n",
            "Epoch 2/200\n",
            "6/6 [==============================] - 0s 3ms/step - loss: 294.9336 - lr: 0.0010\n",
            "Epoch 3/200\n",
            "6/6 [==============================] - 0s 3ms/step - loss: 311.4626 - lr: 0.0010\n",
            "Epoch 4/200\n",
            "6/6 [==============================] - 0s 3ms/step - loss: 285.9180 - lr: 0.0010\n",
            "Epoch 5/200\n",
            "6/6 [==============================] - 0s 3ms/step - loss: 216.0997 - lr: 0.0010\n",
            "Epoch 6/200\n",
            "6/6 [==============================] - 0s 4ms/step - loss: 164.3543 - lr: 0.0010\n",
            "Epoch 7/200\n",
            "6/6 [==============================] - 0s 5ms/step - loss: 110.9041 - lr: 0.0010\n",
            "Epoch 8/200\n",
            "6/6 [==============================] - 0s 8ms/step - loss: 65.2797 - lr: 0.0010\n",
            "Epoch 9/200\n",
            "6/6 [==============================] - 0s 3ms/step - loss: 46.0269 - lr: 0.0010\n",
            "Epoch 10/200\n",
            "6/6 [==============================] - 0s 4ms/step - loss: 40.3512 - lr: 0.0010\n",
            "Epoch 11/200\n",
            "6/6 [==============================] - 0s 5ms/step - loss: 29.7195 - lr: 0.0010\n",
            "Epoch 12/200\n",
            "6/6 [==============================] - 0s 4ms/step - loss: 19.6011 - lr: 0.0010\n",
            "Epoch 13/200\n",
            "6/6 [==============================] - 0s 4ms/step - loss: 13.2356 - lr: 0.0010\n",
            "Epoch 14/200\n",
            "6/6 [==============================] - 0s 9ms/step - loss: 10.9371 - lr: 0.0010\n",
            "Epoch 15/200\n",
            "6/6 [==============================] - 0s 3ms/step - loss: 7.8152 - lr: 0.0010\n",
            "Epoch 16/200\n",
            "6/6 [==============================] - 0s 3ms/step - loss: 6.5557 - lr: 0.0010\n",
            "Epoch 17/200\n",
            "6/6 [==============================] - 0s 6ms/step - loss: 4.9682 - lr: 0.0010\n",
            "Epoch 18/200\n",
            "6/6 [==============================] - 0s 3ms/step - loss: 3.3920 - lr: 0.0010\n",
            "Epoch 19/200\n",
            "6/6 [==============================] - 0s 3ms/step - loss: 3.2448 - lr: 0.0010\n",
            "Epoch 20/200\n",
            "6/6 [==============================] - 0s 4ms/step - loss: 2.7211 - lr: 0.0010\n",
            "Epoch 21/200\n",
            "6/6 [==============================] - 0s 3ms/step - loss: 2.0820 - lr: 0.0010\n",
            "Epoch 22/200\n",
            "6/6 [==============================] - 0s 4ms/step - loss: 2.0715 - lr: 0.0010\n",
            "Epoch 23/200\n",
            "6/6 [==============================] - 0s 7ms/step - loss: 1.6301 - lr: 0.0010\n",
            "Epoch 24/200\n",
            "6/6 [==============================] - 0s 5ms/step - loss: 1.9045 - lr: 0.0010\n",
            "Epoch 25/200\n",
            "6/6 [==============================] - 0s 4ms/step - loss: 1.3360 - lr: 0.0010\n",
            "Epoch 26/200\n",
            "6/6 [==============================] - 0s 5ms/step - loss: 1.0799 - lr: 0.0010\n",
            "Epoch 27/200\n",
            "6/6 [==============================] - 0s 3ms/step - loss: 1.0337 - lr: 0.0010\n",
            "Epoch 28/200\n",
            "6/6 [==============================] - 0s 3ms/step - loss: 1.0531 - lr: 0.0010\n",
            "Epoch 29/200\n",
            "6/6 [==============================] - 0s 3ms/step - loss: 1.0828 - lr: 0.0010\n",
            "Epoch 30/200\n",
            "6/6 [==============================] - 0s 4ms/step - loss: 1.0261 - lr: 0.0010\n",
            "Epoch 31/200\n",
            "6/6 [==============================] - 0s 5ms/step - loss: 1.0667 - lr: 0.0010\n",
            "Epoch 32/200\n",
            "6/6 [==============================] - 0s 5ms/step - loss: 1.0387 - lr: 0.0010\n",
            "Epoch 33/200\n",
            "6/6 [==============================] - 0s 6ms/step - loss: 0.9449 - lr: 0.0010\n",
            "Epoch 34/200\n",
            "6/6 [==============================] - 0s 4ms/step - loss: 0.9377 - lr: 0.0010\n",
            "Epoch 35/200\n",
            "6/6 [==============================] - 0s 5ms/step - loss: 1.0789 - lr: 0.0010\n",
            "Epoch 36/200\n",
            "6/6 [==============================] - 0s 5ms/step - loss: 0.9168 - lr: 0.0010\n",
            "Epoch 37/200\n",
            "6/6 [==============================] - 0s 4ms/step - loss: 0.9825 - lr: 0.0010\n",
            "Epoch 38/200\n",
            "6/6 [==============================] - 0s 4ms/step - loss: 0.8861 - lr: 0.0010\n",
            "Epoch 39/200\n",
            "6/6 [==============================] - 0s 5ms/step - loss: 0.9195 - lr: 0.0010\n",
            "Epoch 40/200\n",
            "6/6 [==============================] - 0s 5ms/step - loss: 0.9087 - lr: 0.0010\n",
            "Epoch 41/200\n",
            "6/6 [==============================] - 0s 4ms/step - loss: 0.9248 - lr: 0.0010\n",
            "Epoch 42/200\n",
            "6/6 [==============================] - 0s 4ms/step - loss: 1.0470 - lr: 0.0010\n",
            "Epoch 43/200\n",
            "6/6 [==============================] - 0s 3ms/step - loss: 0.9928 - lr: 0.0010\n",
            "Epoch 44/200\n",
            "6/6 [==============================] - 0s 5ms/step - loss: 0.9928 - lr: 0.0010\n",
            "Epoch 45/200\n",
            "6/6 [==============================] - 0s 3ms/step - loss: 0.9294 - lr: 0.0010\n",
            "Epoch 46/200\n",
            "6/6 [==============================] - 0s 3ms/step - loss: 0.8986 - lr: 0.0010\n",
            "Epoch 47/200\n",
            "6/6 [==============================] - 0s 3ms/step - loss: 0.9889 - lr: 0.0010\n",
            "Epoch 48/200\n",
            "6/6 [==============================] - 0s 3ms/step - loss: 0.8810 - lr: 0.0010\n",
            "Epoch 49/200\n",
            "6/6 [==============================] - 0s 4ms/step - loss: 0.8913 - lr: 0.0010\n",
            "Epoch 50/200\n",
            "6/6 [==============================] - 0s 3ms/step - loss: 0.9522 - lr: 0.0010\n",
            "Epoch 51/200\n",
            "6/6 [==============================] - 0s 3ms/step - loss: 0.9519 - lr: 1.0000e-04\n",
            "Epoch 52/200\n",
            "6/6 [==============================] - 0s 3ms/step - loss: 0.8925 - lr: 1.0000e-04\n",
            "Epoch 53/200\n",
            "6/6 [==============================] - 0s 3ms/step - loss: 0.8724 - lr: 1.0000e-04\n",
            "Epoch 54/200\n",
            "6/6 [==============================] - 0s 3ms/step - loss: 0.8829 - lr: 1.0000e-04\n",
            "Epoch 55/200\n",
            "6/6 [==============================] - 0s 4ms/step - loss: 0.8772 - lr: 1.0000e-04\n",
            "Epoch 56/200\n",
            "6/6 [==============================] - 0s 3ms/step - loss: 0.8909 - lr: 1.0000e-04\n",
            "Epoch 57/200\n",
            "6/6 [==============================] - 0s 4ms/step - loss: 0.9198 - lr: 1.0000e-04\n",
            "Epoch 58/200\n",
            "6/6 [==============================] - 0s 4ms/step - loss: 0.8663 - lr: 1.0000e-04\n",
            "Epoch 59/200\n",
            "6/6 [==============================] - 0s 4ms/step - loss: 0.8887 - lr: 1.0000e-04\n",
            "Epoch 60/200\n",
            "6/6 [==============================] - 0s 3ms/step - loss: 0.8851 - lr: 1.0000e-04\n",
            "Epoch 61/200\n",
            "6/6 [==============================] - 0s 4ms/step - loss: 0.8723 - lr: 1.0000e-04\n",
            "Epoch 62/200\n",
            "6/6 [==============================] - 0s 4ms/step - loss: 0.8725 - lr: 1.0000e-04\n",
            "Epoch 63/200\n",
            "6/6 [==============================] - 0s 3ms/step - loss: 0.8725 - lr: 1.0000e-04\n",
            "Epoch 64/200\n",
            "6/6 [==============================] - 0s 4ms/step - loss: 0.8787 - lr: 1.0000e-04\n",
            "Epoch 65/200\n",
            "6/6 [==============================] - 0s 6ms/step - loss: 0.8814 - lr: 1.0000e-04\n",
            "Epoch 66/200\n",
            "6/6 [==============================] - 0s 6ms/step - loss: 0.8757 - lr: 1.0000e-04\n",
            "Epoch 67/200\n",
            "6/6 [==============================] - 0s 4ms/step - loss: 0.8708 - lr: 1.0000e-04\n",
            "Epoch 68/200\n",
            "6/6 [==============================] - 0s 3ms/step - loss: 0.8922 - lr: 1.0000e-04\n",
            "Epoch 69/200\n",
            "6/6 [==============================] - 0s 5ms/step - loss: 0.8736 - lr: 1.0000e-04\n",
            "Epoch 70/200\n",
            "6/6 [==============================] - 0s 10ms/step - loss: 0.8749 - lr: 1.0000e-04\n",
            "Epoch 71/200\n",
            "6/6 [==============================] - 0s 5ms/step - loss: 0.8895 - lr: 1.0000e-04\n",
            "Epoch 72/200\n",
            "6/6 [==============================] - 0s 4ms/step - loss: 0.8717 - lr: 1.0000e-04\n",
            "Epoch 73/200\n",
            "6/6 [==============================] - 0s 5ms/step - loss: 0.8847 - lr: 1.0000e-04\n",
            "Epoch 74/200\n",
            "6/6 [==============================] - 0s 4ms/step - loss: 0.8791 - lr: 1.0000e-04\n",
            "Epoch 75/200\n",
            "6/6 [==============================] - 0s 3ms/step - loss: 0.8718 - lr: 1.0000e-04\n",
            "Epoch 76/200\n",
            "6/6 [==============================] - 0s 3ms/step - loss: 0.8709 - lr: 1.0000e-04\n",
            "Epoch 77/200\n",
            "6/6 [==============================] - 0s 9ms/step - loss: 0.8746 - lr: 1.0000e-04\n",
            "Epoch 78/200\n",
            "6/6 [==============================] - 0s 9ms/step - loss: 0.8846 - lr: 1.0000e-04\n",
            "Epoch 79/200\n",
            "6/6 [==============================] - 0s 7ms/step - loss: 0.8697 - lr: 1.0000e-04\n",
            "Epoch 80/200\n",
            "6/6 [==============================] - 0s 4ms/step - loss: 0.8718 - lr: 1.0000e-04\n",
            "Epoch 81/200\n",
            "6/6 [==============================] - 0s 3ms/step - loss: 0.8801 - lr: 1.0000e-04\n",
            "Epoch 82/200\n",
            "6/6 [==============================] - 0s 3ms/step - loss: 0.8817 - lr: 1.0000e-04\n",
            "Epoch 83/200\n",
            "6/6 [==============================] - 0s 6ms/step - loss: 0.9497 - lr: 1.0000e-04\n",
            "Epoch 84/200\n",
            "6/6 [==============================] - 0s 5ms/step - loss: 0.9674 - lr: 1.0000e-04\n",
            "Epoch 85/200\n",
            "6/6 [==============================] - 0s 5ms/step - loss: 0.8724 - lr: 1.0000e-04\n",
            "Epoch 86/200\n",
            "6/6 [==============================] - 0s 5ms/step - loss: 0.8976 - lr: 1.0000e-04\n",
            "Epoch 87/200\n",
            "6/6 [==============================] - 0s 5ms/step - loss: 0.8912 - lr: 1.0000e-04\n",
            "Epoch 88/200\n",
            "6/6 [==============================] - 0s 5ms/step - loss: 0.8707 - lr: 1.0000e-04\n",
            "Epoch 89/200\n",
            "6/6 [==============================] - 0s 5ms/step - loss: 0.8771 - lr: 1.0000e-04\n",
            "Epoch 90/200\n",
            "6/6 [==============================] - 0s 11ms/step - loss: 0.8748 - lr: 1.0000e-04\n",
            "Epoch 91/200\n",
            "6/6 [==============================] - 0s 8ms/step - loss: 0.8718 - lr: 1.0000e-04\n",
            "Epoch 92/200\n",
            "6/6 [==============================] - 0s 7ms/step - loss: 0.8708 - lr: 1.0000e-04\n",
            "Epoch 93/200\n",
            "6/6 [==============================] - 0s 8ms/step - loss: 0.8730 - lr: 1.0000e-04\n",
            "Epoch 94/200\n",
            "6/6 [==============================] - 0s 5ms/step - loss: 0.8711 - lr: 1.0000e-04\n",
            "Epoch 95/200\n",
            "6/6 [==============================] - 0s 6ms/step - loss: 0.8715 - lr: 1.0000e-04\n",
            "Epoch 96/200\n",
            "6/6 [==============================] - 0s 4ms/step - loss: 0.8712 - lr: 1.0000e-04\n",
            "Epoch 97/200\n",
            "6/6 [==============================] - 0s 3ms/step - loss: 0.8718 - lr: 1.0000e-04\n",
            "Epoch 98/200\n",
            "6/6 [==============================] - 0s 3ms/step - loss: 0.8700 - lr: 1.0000e-04\n",
            "Epoch 99/200\n",
            "6/6 [==============================] - 0s 3ms/step - loss: 0.8728 - lr: 1.0000e-04\n",
            "Epoch 100/200\n",
            "6/6 [==============================] - 0s 3ms/step - loss: 0.8873 - lr: 1.0000e-04\n",
            "Epoch 101/200\n",
            "6/6 [==============================] - 0s 5ms/step - loss: 0.8765 - lr: 1.0000e-04\n",
            "Epoch 102/200\n",
            "6/6 [==============================] - 0s 4ms/step - loss: 0.8811 - lr: 1.0000e-04\n",
            "Epoch 103/200\n",
            "6/6 [==============================] - 0s 6ms/step - loss: 0.9327 - lr: 1.0000e-04\n",
            "Epoch 104/200\n",
            "6/6 [==============================] - 0s 5ms/step - loss: 0.9105 - lr: 1.0000e-04\n",
            "Epoch 105/200\n",
            "6/6 [==============================] - 0s 4ms/step - loss: 0.8818 - lr: 1.0000e-04\n",
            "Epoch 106/200\n",
            "6/6 [==============================] - 0s 6ms/step - loss: 0.8778 - lr: 1.0000e-04\n",
            "Epoch 107/200\n",
            "6/6 [==============================] - 0s 5ms/step - loss: 0.8732 - lr: 1.0000e-04\n",
            "Epoch 108/200\n",
            "6/6 [==============================] - 0s 6ms/step - loss: 0.8713 - lr: 1.0000e-04\n",
            "Epoch 109/200\n",
            "6/6 [==============================] - 0s 5ms/step - loss: 0.8704 - lr: 1.0000e-04\n",
            "Epoch 110/200\n",
            "6/6 [==============================] - 0s 4ms/step - loss: 0.8705 - lr: 1.0000e-04\n",
            "Epoch 111/200\n",
            "6/6 [==============================] - 0s 4ms/step - loss: 0.8719 - lr: 1.0000e-04\n",
            "Epoch 112/200\n",
            "6/6 [==============================] - 0s 4ms/step - loss: 0.8739 - lr: 1.0000e-04\n",
            "Epoch 113/200\n",
            "6/6 [==============================] - 0s 3ms/step - loss: 0.8705 - lr: 1.0000e-04\n",
            "Epoch 114/200\n",
            "6/6 [==============================] - 0s 5ms/step - loss: 0.8725 - lr: 1.0000e-04\n",
            "Epoch 115/200\n",
            "6/6 [==============================] - 0s 4ms/step - loss: 0.8816 - lr: 1.0000e-04\n",
            "Epoch 116/200\n",
            "6/6 [==============================] - 0s 3ms/step - loss: 0.8780 - lr: 1.0000e-04\n",
            "Epoch 117/200\n",
            "6/6 [==============================] - 0s 3ms/step - loss: 0.8697 - lr: 1.0000e-04\n",
            "Epoch 118/200\n",
            "6/6 [==============================] - 0s 3ms/step - loss: 0.8707 - lr: 1.0000e-04\n",
            "Epoch 119/200\n",
            "6/6 [==============================] - 0s 5ms/step - loss: 0.8712 - lr: 1.0000e-04\n",
            "Epoch 120/200\n",
            "6/6 [==============================] - 0s 3ms/step - loss: 0.8715 - lr: 1.0000e-04\n",
            "Epoch 121/200\n",
            "6/6 [==============================] - 0s 4ms/step - loss: 0.8713 - lr: 1.0000e-04\n",
            "Epoch 122/200\n",
            "6/6 [==============================] - 0s 6ms/step - loss: 0.8729 - lr: 1.0000e-04\n",
            "Epoch 123/200\n",
            "6/6 [==============================] - 0s 8ms/step - loss: 0.8720 - lr: 1.0000e-04\n",
            "Epoch 124/200\n",
            "6/6 [==============================] - 0s 3ms/step - loss: 0.8785 - lr: 1.0000e-04\n",
            "Epoch 125/200\n",
            "6/6 [==============================] - 0s 5ms/step - loss: 0.8930 - lr: 1.0000e-04\n",
            "Epoch 126/200\n",
            "6/6 [==============================] - 0s 4ms/step - loss: 0.9059 - lr: 1.0000e-04\n",
            "Epoch 127/200\n",
            "6/6 [==============================] - 0s 5ms/step - loss: 0.8847 - lr: 1.0000e-04\n",
            "Epoch 128/200\n",
            "6/6 [==============================] - 0s 7ms/step - loss: 0.8691 - lr: 1.0000e-04\n",
            "Epoch 129/200\n",
            "6/6 [==============================] - 0s 15ms/step - loss: 0.8775 - lr: 1.0000e-04\n",
            "Epoch 130/200\n",
            "6/6 [==============================] - 0s 8ms/step - loss: 0.8704 - lr: 1.0000e-04\n",
            "Epoch 131/200\n",
            "6/6 [==============================] - 0s 9ms/step - loss: 0.8701 - lr: 1.0000e-04\n",
            "Epoch 132/200\n",
            "6/6 [==============================] - 0s 9ms/step - loss: 0.8784 - lr: 1.0000e-04\n",
            "Epoch 133/200\n",
            "6/6 [==============================] - 0s 9ms/step - loss: 0.8744 - lr: 1.0000e-04\n",
            "Epoch 134/200\n",
            "6/6 [==============================] - 0s 10ms/step - loss: 0.8706 - lr: 1.0000e-04\n",
            "Epoch 135/200\n",
            "6/6 [==============================] - 0s 8ms/step - loss: 0.8820 - lr: 1.0000e-04\n",
            "Epoch 136/200\n",
            "6/6 [==============================] - 0s 17ms/step - loss: 0.8820 - lr: 1.0000e-04\n",
            "Epoch 137/200\n",
            "6/6 [==============================] - 0s 16ms/step - loss: 0.8692 - lr: 1.0000e-04\n",
            "Epoch 138/200\n",
            "6/6 [==============================] - 0s 14ms/step - loss: 0.8691 - lr: 1.0000e-04\n",
            "Epoch 139/200\n",
            "6/6 [==============================] - 0s 12ms/step - loss: 0.8870 - lr: 1.0000e-04\n",
            "Epoch 140/200\n",
            "6/6 [==============================] - 0s 12ms/step - loss: 0.8734 - lr: 1.0000e-04\n",
            "Epoch 141/200\n",
            "6/6 [==============================] - 0s 9ms/step - loss: 0.8704 - lr: 1.0000e-04\n",
            "Epoch 142/200\n",
            "6/6 [==============================] - 0s 9ms/step - loss: 0.8702 - lr: 1.0000e-04\n",
            "Epoch 143/200\n",
            "6/6 [==============================] - 0s 3ms/step - loss: 0.8767 - lr: 1.0000e-04\n",
            "Epoch 144/200\n",
            "6/6 [==============================] - 0s 3ms/step - loss: 0.8899 - lr: 1.0000e-04\n",
            "Epoch 145/200\n",
            "6/6 [==============================] - 0s 5ms/step - loss: 0.8896 - lr: 1.0000e-04\n",
            "Epoch 146/200\n",
            "6/6 [==============================] - 0s 3ms/step - loss: 0.8789 - lr: 1.0000e-04\n",
            "Epoch 147/200\n",
            "6/6 [==============================] - 0s 3ms/step - loss: 0.8743 - lr: 1.0000e-04\n",
            "Epoch 148/200\n",
            "6/6 [==============================] - 0s 3ms/step - loss: 0.8784 - lr: 1.0000e-04\n",
            "Epoch 149/200\n",
            "6/6 [==============================] - 0s 3ms/step - loss: 0.9056 - lr: 1.0000e-04\n",
            "Epoch 150/200\n",
            "6/6 [==============================] - 0s 3ms/step - loss: 0.8841 - lr: 1.0000e-04\n",
            "Epoch 151/200\n",
            "6/6 [==============================] - 0s 4ms/step - loss: 0.8791 - lr: 1.0000e-04\n",
            "Epoch 152/200\n",
            "6/6 [==============================] - 0s 3ms/step - loss: 0.8723 - lr: 1.0000e-04\n",
            "Epoch 153/200\n",
            "6/6 [==============================] - 0s 4ms/step - loss: 0.8698 - lr: 1.0000e-04\n",
            "Epoch 154/200\n",
            "6/6 [==============================] - 0s 3ms/step - loss: 0.8749 - lr: 1.0000e-04\n",
            "Epoch 155/200\n",
            "6/6 [==============================] - 0s 3ms/step - loss: 0.8758 - lr: 1.0000e-04\n",
            "Epoch 156/200\n",
            "6/6 [==============================] - 0s 3ms/step - loss: 0.8734 - lr: 1.0000e-04\n",
            "Epoch 157/200\n",
            "6/6 [==============================] - 0s 4ms/step - loss: 0.8776 - lr: 1.0000e-04\n",
            "Epoch 158/200\n",
            "6/6 [==============================] - 0s 3ms/step - loss: 0.8749 - lr: 1.0000e-04\n",
            "Epoch 159/200\n",
            "6/6 [==============================] - 0s 4ms/step - loss: 0.8709 - lr: 1.0000e-04\n",
            "Epoch 160/200\n",
            "6/6 [==============================] - 0s 3ms/step - loss: 0.8738 - lr: 1.0000e-04\n",
            "Epoch 161/200\n",
            "6/6 [==============================] - 0s 4ms/step - loss: 0.8773 - lr: 1.0000e-04\n",
            "Epoch 162/200\n",
            "6/6 [==============================] - 0s 4ms/step - loss: 0.8756 - lr: 1.0000e-04\n",
            "Epoch 163/200\n",
            "6/6 [==============================] - 0s 4ms/step - loss: 0.8695 - lr: 1.0000e-04\n",
            "Epoch 164/200\n",
            "6/6 [==============================] - 0s 4ms/step - loss: 0.8782 - lr: 1.0000e-04\n",
            "Epoch 165/200\n",
            "6/6 [==============================] - 0s 4ms/step - loss: 0.8980 - lr: 1.0000e-04\n",
            "Epoch 166/200\n",
            "6/6 [==============================] - 0s 4ms/step - loss: 0.8836 - lr: 1.0000e-04\n",
            "Epoch 167/200\n",
            "6/6 [==============================] - 0s 4ms/step - loss: 0.8706 - lr: 1.0000e-04\n",
            "Epoch 168/200\n",
            "6/6 [==============================] - 0s 3ms/step - loss: 0.8699 - lr: 1.0000e-04\n",
            "Epoch 169/200\n",
            "6/6 [==============================] - 0s 3ms/step - loss: 0.9099 - lr: 1.0000e-04\n",
            "Epoch 170/200\n",
            "6/6 [==============================] - 0s 3ms/step - loss: 0.9299 - lr: 1.0000e-04\n",
            "Epoch 171/200\n",
            "6/6 [==============================] - 0s 4ms/step - loss: 0.8926 - lr: 1.0000e-04\n",
            "Epoch 172/200\n",
            "6/6 [==============================] - 0s 4ms/step - loss: 0.8729 - lr: 1.0000e-04\n",
            "Epoch 173/200\n",
            "6/6 [==============================] - 0s 4ms/step - loss: 0.8711 - lr: 1.0000e-04\n",
            "Epoch 174/200\n",
            "6/6 [==============================] - 0s 4ms/step - loss: 0.8706 - lr: 1.0000e-04\n",
            "Epoch 175/200\n",
            "6/6 [==============================] - 0s 5ms/step - loss: 0.8720 - lr: 1.0000e-04\n",
            "Epoch 176/200\n",
            "6/6 [==============================] - 0s 4ms/step - loss: 0.8850 - lr: 1.0000e-04\n",
            "Epoch 177/200\n",
            "6/6 [==============================] - 0s 5ms/step - loss: 0.8820 - lr: 1.0000e-04\n",
            "Epoch 178/200\n",
            "6/6 [==============================] - 0s 4ms/step - loss: 0.8757 - lr: 1.0000e-04\n",
            "Epoch 179/200\n",
            "6/6 [==============================] - 0s 5ms/step - loss: 0.8711 - lr: 1.0000e-04\n",
            "Epoch 180/200\n",
            "6/6 [==============================] - 0s 4ms/step - loss: 0.8737 - lr: 1.0000e-04\n",
            "Epoch 181/200\n",
            "6/6 [==============================] - 0s 5ms/step - loss: 0.8762 - lr: 1.0000e-04\n",
            "Epoch 182/200\n",
            "6/6 [==============================] - 0s 4ms/step - loss: 0.8696 - lr: 1.0000e-04\n",
            "Epoch 183/200\n",
            "6/6 [==============================] - 0s 4ms/step - loss: 0.8774 - lr: 1.0000e-04\n",
            "Epoch 184/200\n",
            "6/6 [==============================] - 0s 5ms/step - loss: 0.8770 - lr: 1.0000e-04\n",
            "Epoch 185/200\n",
            "6/6 [==============================] - 0s 6ms/step - loss: 0.8745 - lr: 1.0000e-04\n",
            "Epoch 186/200\n",
            "6/6 [==============================] - 0s 7ms/step - loss: 0.8723 - lr: 1.0000e-04\n",
            "Epoch 187/200\n",
            "6/6 [==============================] - 0s 5ms/step - loss: 0.8753 - lr: 1.0000e-04\n",
            "Epoch 188/200\n",
            "6/6 [==============================] - 0s 6ms/step - loss: 0.8896 - lr: 1.0000e-04\n",
            "Epoch 189/200\n",
            "6/6 [==============================] - 0s 6ms/step - loss: 0.8766 - lr: 1.0000e-04\n",
            "Epoch 190/200\n",
            "6/6 [==============================] - 0s 5ms/step - loss: 0.8697 - lr: 1.0000e-04\n",
            "Epoch 191/200\n",
            "6/6 [==============================] - 0s 6ms/step - loss: 0.8758 - lr: 1.0000e-04\n",
            "Epoch 192/200\n",
            "6/6 [==============================] - 0s 4ms/step - loss: 0.8881 - lr: 1.0000e-04\n",
            "Epoch 193/200\n",
            "6/6 [==============================] - 0s 4ms/step - loss: 0.8759 - lr: 1.0000e-04\n",
            "Epoch 194/200\n",
            "6/6 [==============================] - 0s 4ms/step - loss: 0.8802 - lr: 1.0000e-04\n",
            "Epoch 195/200\n",
            "6/6 [==============================] - 0s 5ms/step - loss: 0.8818 - lr: 1.0000e-04\n",
            "Epoch 196/200\n",
            "6/6 [==============================] - 0s 6ms/step - loss: 0.8757 - lr: 1.0000e-04\n",
            "Epoch 197/200\n",
            "6/6 [==============================] - 0s 6ms/step - loss: 0.8696 - lr: 1.0000e-04\n",
            "Epoch 198/200\n",
            "6/6 [==============================] - 0s 5ms/step - loss: 0.8805 - lr: 1.0000e-04\n",
            "Epoch 199/200\n",
            "6/6 [==============================] - 0s 5ms/step - loss: 0.8888 - lr: 1.0000e-04\n",
            "Epoch 200/200\n",
            "6/6 [==============================] - 0s 4ms/step - loss: 0.8754 - lr: 1.0000e-04\n"
          ]
        }
      ]
    },
    {
      "cell_type": "code",
      "source": [
        "plt.plot(r.history['loss'], label='loss')\n",
        "plt.legend()"
      ],
      "metadata": {
        "colab": {
          "base_uri": "https://localhost:8080/",
          "height": 448
        },
        "id": "8PUpgTB2GPqW",
        "outputId": "3b1624ca-f37c-414c-f183-ee6bc982d9d0"
      },
      "execution_count": 39,
      "outputs": [
        {
          "output_type": "execute_result",
          "data": {
            "text/plain": [
              "<matplotlib.legend.Legend at 0x7c3bbbc2b3a0>"
            ]
          },
          "metadata": {},
          "execution_count": 39
        },
        {
          "output_type": "display_data",
          "data": {
            "text/plain": [
              "<Figure size 640x480 with 1 Axes>"
            ],
            "image/png": "[encoded data removed]"
          },
          "metadata": {}
        }
      ]
    },
    {
      "cell_type": "code",
      "source": [
        "print(model.layers[0].get_weights())"
      ],
      "metadata": {
        "colab": {
          "base_uri": "https://localhost:8080/"
        },
        "id": "MhwzbRYUGjSQ",
        "outputId": "7919c966-8d55-4509-816c-d3463027d1a9"
      },
      "execution_count": 40,
      "outputs": [
        {
          "output_type": "stream",
          "name": "stdout",
          "text": [
            "[array([[0.34159318]], dtype=float32), array([17.766745], dtype=float32)]\n"
          ]
        }
      ]
    },
    {
      "cell_type": "code",
      "source": [
        "a = model.layers[0].get_weights()[0][0,0]"
      ],
      "metadata": {
        "id": "sNxND5HtG2WH"
      },
      "execution_count": 41,
      "outputs": []
    },
    {
      "cell_type": "code",
      "source": [
        "print(\"Time to double:\", np.log(2) / a)"
      ],
      "metadata": {
        "colab": {
          "base_uri": "https://localhost:8080/"
        },
        "id": "QxpBK7zeG28W",
        "outputId": "257dec3b-a4f2-433a-94f8-c9779099bca3"
      },
      "execution_count": 42,
      "outputs": [
        {
          "output_type": "stream",
          "name": "stdout",
          "text": [
            "Time to double: 2.029159915955982\n"
          ]
        }
      ]
    },
    {
      "cell_type": "code",
      "source": [
        "X = np.array(X).flatten()\n",
        "Y = np.array(y)\n",
        "denominator = X.dot(X) - X.mean() * X.sum()\n",
        "a = (X.dot(y) - y.mean()*X.sum()) / denominator\n",
        "b = (y.mean() * X.dot(X) - X.mean() * X.dot(y)) / denominator\n",
        "print(a, b)\n",
        "print(\"Time to double:\", np.log(2) / a)"
      ],
      "metadata": {
        "colab": {
          "base_uri": "https://localhost:8080/"
        },
        "id": "KQ2EZF4-HEFO",
        "outputId": "bb2a967c-59f0-4607-daf0-04eadefc7cc8"
      },
      "execution_count": 44,
      "outputs": [
        {
          "output_type": "stream",
          "name": "stdout",
          "text": [
            "0.341682487387313 17.764939393631764\n",
            "Time to double: 2.0286295205239204\n"
          ]
        }
      ]
    },
    {
      "cell_type": "code",
      "source": [
        "yhat = model.predict(X).flatten()\n",
        "plt.scatter(X, y)\n",
        "plt.plot(X, yhat)"
      ],
      "metadata": {
        "colab": {
          "base_uri": "https://localhost:8080/",
          "height": 466
        },
        "id": "UPScjNV3NiIW",
        "outputId": "a503bc93-49c3-4fe8-e5e0-f653df08d423"
      },
      "execution_count": 45,
      "outputs": [
        {
          "output_type": "stream",
          "name": "stdout",
          "text": [
            "6/6 [==============================] - 0s 2ms/step\n"
          ]
        },
        {
          "output_type": "execute_result",
          "data": {
            "text/plain": [
              "[<matplotlib.lines.Line2D at 0x7c3bc2089540>]"
            ]
          },
          "metadata": {},
          "execution_count": 45
        },
        {
          "output_type": "display_data",
          "data": {
            "text/plain": [
              "<Figure size 640x480 with 1 Axes>"
            ],
            "image/png": "[encoded data removed]"
          },
          "metadata": {}
        }
      ]
    },
    {
      "cell_type": "code",
      "source": [
        "w, b = model.layers[0].get_weights()\n",
        "X = X.reshape(-1, 1)\n",
        "\n",
        "yhat2 = (X.dot(w) + b).flatten()\n",
        "\n",
        "np.allclose(yhat, yhat2)"
      ],
      "metadata": {
        "colab": {
          "base_uri": "https://localhost:8080/"
        },
        "id": "hUlXWad1NrvK",
        "outputId": "76084f55-29ce-4577-9e1a-3c817563aa9e"
      },
      "execution_count": 46,
      "outputs": [
        {
          "output_type": "execute_result",
          "data": {
            "text/plain": [
              "True"
            ]
          },
          "metadata": {},
          "execution_count": 46
        }
      ]
    },
    {
      "cell_type": "code",
      "source": [],
      "metadata": {
        "id": "rYnwAKCiN2fA"
      },
      "execution_count": null,
      "outputs": []
    }
  ]
}